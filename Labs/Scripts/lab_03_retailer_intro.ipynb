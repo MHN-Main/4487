{
  "cells": [
    {
      "cell_type": "markdown",
      "metadata": {
        "id": "pOrK5IZVu6MT"
      },
      "source": [
        "# IS 4487 Lab 3\n",
        "\n",
        "## Outline\n",
        "\n",
        "Repeat exercises from Lab 2, but with the *SuperStore Retail Orders* dataset\n",
        "- Loading installed packages\n",
        "- Inspect data\n",
        "- Explore plot types\n",
        "\n",
        "<a href=\"https://colab.research.google.com/github/Stan-Pugsley/is_4487_base/blob/main/Labs/Scripts/lab_03_retailer_intro.ipynb\" target=\"_parent\"><img src=\"https://colab.research.google.com/assets/colab-badge.svg\" alt=\"Open In Colab\"/></a>"
      ]
    },
    {
      "cell_type": "markdown",
      "metadata": {
        "id": "GWmpGpB5u6MZ"
      },
      "source": [
        "## Superstore Data Dictionary\n",
        "\n",
        " ORDER VARIABLES:\n",
        " - Order ID\n",
        " - Order Date\n",
        " - Order Year Month - Year and month of the order\n",
        " - Order Type - Was the order completed at a store or online? (Retail, Online)\n",
        " - Quantity - Quantity ordered for the product\n",
        "\n",
        " CUSTOMER VARIABLES:\n",
        " - Customer Name\n",
        " - City\n",
        " - State Province\n",
        " - Email\n",
        "\n",
        "PRODUCT VARIABLES:\n",
        " - Product Name\n",
        " - Product Line - Category of the product (i.e. Bikes Phones)\n",
        " - Product Price - Price in US Dollars\n",
        " - Product Status - Current status of the product (Active, Inactive)"
      ]
    },
    {
      "cell_type": "markdown",
      "metadata": {
        "id": "r6TOcp-ou6MZ"
      },
      "source": [
        "## Load Libraries\n",
        "\n",
        "➡️ Assignment Tasks\n",
        "- Load any necessary libraries"
      ]
    },
    {
      "cell_type": "code",
      "execution_count": 2,
      "metadata": {
        "vscode": {
          "languageId": "plaintext"
        },
        "id": "sLTVwNZ5u6Ma"
      },
      "outputs": [],
      "source": [
        "import pandas as pd\n",
        "import matplotlib as mpl\n",
        "import matplotlib.pyplot as plt\n",
        "import numpy as np"
      ]
    },
    {
      "cell_type": "markdown",
      "metadata": {
        "id": "z48aO9hbu6Mb"
      },
      "source": [
        "## Import Data into Dataframe\n",
        "\n",
        "➡️ Assignment Tasks\n",
        "- Import data from the SuperStore retail dataset into a dataframe (in GitHub go to Labs > DataSets)\n",
        "- Describe or profile the dataframe"
      ]
    },
    {
      "cell_type": "code",
      "execution_count": 5,
      "metadata": {
        "vscode": {
          "languageId": "plaintext"
        },
        "colab": {
          "base_uri": "https://localhost:8080/"
        },
        "id": "j-AEp2Xqu6Mc",
        "outputId": "537fbcd2-07b4-4027-a277-032ed6a2f133"
      },
      "outputs": [
        {
          "output_type": "stream",
          "name": "stdout",
          "text": [
            "       order_id  order_date order_year_month     customer_name  \\\n",
            "0         51188  2023-07-01          2023-07     Audrey Blanco   \n",
            "1         51187  2023-07-01          2023-07       Isaac Allen   \n",
            "2         51199  2023-07-02          2023-07        Ian Morgan   \n",
            "3         51241  2023-07-04          2023-07        Alexa Bell   \n",
            "4         51297  2023-07-08          2023-07        Casey Diaz   \n",
            "...         ...         ...              ...               ...   \n",
            "56038     74084  2024-06-29          2024-06        Ian Rogers   \n",
            "56039     74062  2024-06-29          2024-06   Marcus Anderson   \n",
            "56040     74065  2024-06-29          2024-06  Nathaniel Howard   \n",
            "56041     74038  2024-06-29          2024-06        Robin Sanz   \n",
            "56042     74110  2024-06-30          2024-06   Mallory Jimenez   \n",
            "\n",
            "                    city state_province                       email  \\\n",
            "0      North Cherylmouth  New Hampshire     audrey_blanco@email.com   \n",
            "1             Traceyland  West Virginia       isaac_allen@email.com   \n",
            "2              Dylanberg   South Dakota        ian_morgan@email.com   \n",
            "3         Lake Tracytown      Wisconsin        alexa_bell@email.com   \n",
            "4            Byrdchester    Mississippi        casey_diaz@email.com   \n",
            "...                  ...            ...                         ...   \n",
            "56038          Port Mark        Alabama        ian_rogers@email.com   \n",
            "56039     West Aprilfurt       Nebraska   marcus_anderson@email.com   \n",
            "56040      New Lindaview       Illinois  nathaniel_howard@email.com   \n",
            "56041    West Frankhaven       Arkansas        robin_sanz@email.com   \n",
            "56042        Dillonhaven       Maryland   mallory_jimenez@email.com   \n",
            "\n",
            "      order_type  quantity                                       product_name  \\\n",
            "0         Retail       3.0  Apple iPhone XR (Yellow, 256 GB) (Includes Ear...   \n",
            "1         Online       4.0  Apple iPhone XR (Yellow, 256 GB) (Includes Ear...   \n",
            "2         Online       5.0  Apple iPhone XR (Yellow, 256 GB) (Includes Ear...   \n",
            "3         Online       1.0  Apple iPhone XR (Yellow, 256 GB) (Includes Ear...   \n",
            "4         Online       1.0  Apple iPhone XR (Yellow, 256 GB) (Includes Ear...   \n",
            "...          ...       ...                                                ...   \n",
            "56038     Retail       1.0  Samsung Galaxy S20 FE 5G (Cloud Navy, 8GB RAM,...   \n",
            "56039     Retail       1.0  Samsung Galaxy S20 FE 5G (Cloud Navy, 8GB RAM,...   \n",
            "56040     Online       1.0  Samsung Galaxy S20 FE 5G (Cloud Navy, 8GB RAM,...   \n",
            "56041     Retail       1.0  Samsung Galaxy S20 FE 5G (Cloud Navy, 8GB RAM,...   \n",
            "56042     Retail       1.0  Samsung Galaxy S20 FE 5G (Cloud Navy, 8GB RAM,...   \n",
            "\n",
            "      product_line  product_price product_status  \n",
            "0           Mobile         649.99         Active  \n",
            "1           Mobile         649.99         Active  \n",
            "2           Mobile         649.99         Active  \n",
            "3           Mobile         649.99         Active  \n",
            "4           Mobile         649.99         Active  \n",
            "...            ...            ...            ...  \n",
            "56038  Electronics         914.62         Active  \n",
            "56039  Electronics         914.62         Active  \n",
            "56040  Electronics         914.62         Active  \n",
            "56041  Electronics         914.62         Active  \n",
            "56042  Electronics         914.62         Active  \n",
            "\n",
            "[56043 rows x 13 columns]\n"
          ]
        }
      ],
      "source": [
        "df = pd.read_csv('https://github.com/Stan-Pugsley/is_4487_base/blob/main/Labs/DataSets/superstore_retail_orders.csv?raw=true')\n",
        "print(df)"
      ]
    },
    {
      "cell_type": "markdown",
      "metadata": {
        "id": "p3JO40fVu6Mc"
      },
      "source": [
        "## Prepare Data\n",
        "\n",
        "➡️ Assignment Tasks\n",
        "- Create a \"revenue\" variable and make sure it is a numeric datatype\n",
        "- Remove rows with empty (NULL) values\n",
        "- Locate outliers in at least two of the variables.   Filter them out if they are mistakes; keep them if they are exceptional cases."
      ]
    },
    {
      "cell_type": "code",
      "execution_count": 7,
      "metadata": {
        "vscode": {
          "languageId": "plaintext"
        },
        "colab": {
          "base_uri": "https://localhost:8080/",
          "height": 668
        },
        "id": "4_AQK7mlu6Mc",
        "outputId": "df891d9b-61cd-4c62-db5d-ded7e039af7f"
      },
      "outputs": [
        {
          "output_type": "error",
          "ename": "OutOfBoundsDatetime",
          "evalue": "Out of bounds nanosecond timestamp: 2421-09-12, at position 370. You might want to try:\n    - passing `format` if your strings have a consistent format;\n    - passing `format='ISO8601'` if your strings are all ISO8601 but not necessarily in exactly the same format;\n    - passing `format='mixed'`, and the format will be inferred for each element individually. You might want to use `dayfirst` alongside this.",
          "traceback": [
            "\u001b[0;31m---------------------------------------------------------------------------\u001b[0m",
            "\u001b[0;31mOverflowError\u001b[0m                             Traceback (most recent call last)",
            "\u001b[0;32mstrptime.pyx\u001b[0m in \u001b[0;36mpandas._libs.tslibs.strptime.array_strptime\u001b[0;34m()\u001b[0m\n",
            "\u001b[0;31mOverflowError\u001b[0m: Overflow occurred in npy_datetimestruct_to_datetime",
            "\nThe above exception was the direct cause of the following exception:\n",
            "\u001b[0;31mOutOfBoundsDatetime\u001b[0m                       Traceback (most recent call last)",
            "\u001b[0;32m<ipython-input-7-c244acfbeea1>\u001b[0m in \u001b[0;36m<cell line: 0>\u001b[0;34m()\u001b[0m\n\u001b[1;32m     22\u001b[0m \u001b[0;34m\u001b[0m\u001b[0m\n\u001b[1;32m     23\u001b[0m \u001b[0;31m#convert order_year_month\u001b[0m\u001b[0;34m\u001b[0m\u001b[0;34m\u001b[0m\u001b[0m\n\u001b[0;32m---> 24\u001b[0;31m \u001b[0mdf\u001b[0m\u001b[0;34m[\u001b[0m\u001b[0;34m'order_date'\u001b[0m\u001b[0;34m]\u001b[0m \u001b[0;34m=\u001b[0m \u001b[0mpd\u001b[0m\u001b[0;34m.\u001b[0m\u001b[0mto_datetime\u001b[0m\u001b[0;34m(\u001b[0m\u001b[0mdf\u001b[0m\u001b[0;34m[\u001b[0m\u001b[0;34m'order_date'\u001b[0m\u001b[0;34m]\u001b[0m\u001b[0;34m)\u001b[0m\u001b[0;34m.\u001b[0m\u001b[0mdt\u001b[0m\u001b[0;34m.\u001b[0m\u001b[0myear\u001b[0m\u001b[0;34m\u001b[0m\u001b[0;34m\u001b[0m\u001b[0m\n\u001b[0m\u001b[1;32m     25\u001b[0m \u001b[0mdf_filteredfin\u001b[0m \u001b[0;34m=\u001b[0m \u001b[0mdf\u001b[0m\u001b[0;34m[\u001b[0m\u001b[0;34m(\u001b[0m\u001b[0mdf\u001b[0m\u001b[0;34m[\u001b[0m\u001b[0;34m'order_date'\u001b[0m\u001b[0;34m]\u001b[0m \u001b[0;34m<=\u001b[0m \u001b[0;36m1922\u001b[0m\u001b[0;34m)\u001b[0m \u001b[0;34m&\u001b[0m \u001b[0;34m(\u001b[0m\u001b[0mdf\u001b[0m\u001b[0;34m[\u001b[0m\u001b[0;34m'order_date'\u001b[0m\u001b[0;34m]\u001b[0m \u001b[0;34m>=\u001b[0m \u001b[0;36m2421\u001b[0m\u001b[0;34m)\u001b[0m\u001b[0;34m]\u001b[0m\u001b[0;34m\u001b[0m\u001b[0;34m\u001b[0m\u001b[0m\n\u001b[1;32m     26\u001b[0m \u001b[0mdf_filteredfin\u001b[0m\u001b[0;34m.\u001b[0m\u001b[0mhead\u001b[0m\u001b[0;34m(\u001b[0m\u001b[0;34m)\u001b[0m\u001b[0;34m\u001b[0m\u001b[0;34m\u001b[0m\u001b[0m\n",
            "\u001b[0;32m/usr/local/lib/python3.11/dist-packages/pandas/core/tools/datetimes.py\u001b[0m in \u001b[0;36mto_datetime\u001b[0;34m(arg, errors, dayfirst, yearfirst, utc, format, exact, unit, infer_datetime_format, origin, cache)\u001b[0m\n\u001b[1;32m   1061\u001b[0m                 \u001b[0mresult\u001b[0m \u001b[0;34m=\u001b[0m \u001b[0marg\u001b[0m\u001b[0;34m.\u001b[0m\u001b[0mtz_localize\u001b[0m\u001b[0;34m(\u001b[0m\u001b[0;34m\"utc\"\u001b[0m\u001b[0;34m)\u001b[0m\u001b[0;34m\u001b[0m\u001b[0;34m\u001b[0m\u001b[0m\n\u001b[1;32m   1062\u001b[0m     \u001b[0;32melif\u001b[0m \u001b[0misinstance\u001b[0m\u001b[0;34m(\u001b[0m\u001b[0marg\u001b[0m\u001b[0;34m,\u001b[0m \u001b[0mABCSeries\u001b[0m\u001b[0;34m)\u001b[0m\u001b[0;34m:\u001b[0m\u001b[0;34m\u001b[0m\u001b[0;34m\u001b[0m\u001b[0m\n\u001b[0;32m-> 1063\u001b[0;31m         \u001b[0mcache_array\u001b[0m \u001b[0;34m=\u001b[0m \u001b[0m_maybe_cache\u001b[0m\u001b[0;34m(\u001b[0m\u001b[0marg\u001b[0m\u001b[0;34m,\u001b[0m \u001b[0mformat\u001b[0m\u001b[0;34m,\u001b[0m \u001b[0mcache\u001b[0m\u001b[0;34m,\u001b[0m \u001b[0mconvert_listlike\u001b[0m\u001b[0;34m)\u001b[0m\u001b[0;34m\u001b[0m\u001b[0;34m\u001b[0m\u001b[0m\n\u001b[0m\u001b[1;32m   1064\u001b[0m         \u001b[0;32mif\u001b[0m \u001b[0;32mnot\u001b[0m \u001b[0mcache_array\u001b[0m\u001b[0;34m.\u001b[0m\u001b[0mempty\u001b[0m\u001b[0;34m:\u001b[0m\u001b[0;34m\u001b[0m\u001b[0;34m\u001b[0m\u001b[0m\n\u001b[1;32m   1065\u001b[0m             \u001b[0mresult\u001b[0m \u001b[0;34m=\u001b[0m \u001b[0marg\u001b[0m\u001b[0;34m.\u001b[0m\u001b[0mmap\u001b[0m\u001b[0;34m(\u001b[0m\u001b[0mcache_array\u001b[0m\u001b[0;34m)\u001b[0m\u001b[0;34m\u001b[0m\u001b[0;34m\u001b[0m\u001b[0m\n",
            "\u001b[0;32m/usr/local/lib/python3.11/dist-packages/pandas/core/tools/datetimes.py\u001b[0m in \u001b[0;36m_maybe_cache\u001b[0;34m(arg, format, cache, convert_listlike)\u001b[0m\n\u001b[1;32m    245\u001b[0m         \u001b[0munique_dates\u001b[0m \u001b[0;34m=\u001b[0m \u001b[0munique\u001b[0m\u001b[0;34m(\u001b[0m\u001b[0marg\u001b[0m\u001b[0;34m)\u001b[0m\u001b[0;34m\u001b[0m\u001b[0;34m\u001b[0m\u001b[0m\n\u001b[1;32m    246\u001b[0m         \u001b[0;32mif\u001b[0m \u001b[0mlen\u001b[0m\u001b[0;34m(\u001b[0m\u001b[0munique_dates\u001b[0m\u001b[0;34m)\u001b[0m \u001b[0;34m<\u001b[0m \u001b[0mlen\u001b[0m\u001b[0;34m(\u001b[0m\u001b[0marg\u001b[0m\u001b[0;34m)\u001b[0m\u001b[0;34m:\u001b[0m\u001b[0;34m\u001b[0m\u001b[0;34m\u001b[0m\u001b[0m\n\u001b[0;32m--> 247\u001b[0;31m             \u001b[0mcache_dates\u001b[0m \u001b[0;34m=\u001b[0m \u001b[0mconvert_listlike\u001b[0m\u001b[0;34m(\u001b[0m\u001b[0munique_dates\u001b[0m\u001b[0;34m,\u001b[0m \u001b[0mformat\u001b[0m\u001b[0;34m)\u001b[0m\u001b[0;34m\u001b[0m\u001b[0;34m\u001b[0m\u001b[0m\n\u001b[0m\u001b[1;32m    248\u001b[0m             \u001b[0;31m# GH#45319\u001b[0m\u001b[0;34m\u001b[0m\u001b[0;34m\u001b[0m\u001b[0m\n\u001b[1;32m    249\u001b[0m             \u001b[0;32mtry\u001b[0m\u001b[0;34m:\u001b[0m\u001b[0;34m\u001b[0m\u001b[0;34m\u001b[0m\u001b[0m\n",
            "\u001b[0;32m/usr/local/lib/python3.11/dist-packages/pandas/core/tools/datetimes.py\u001b[0m in \u001b[0;36m_convert_listlike_datetimes\u001b[0;34m(arg, format, name, utc, unit, errors, dayfirst, yearfirst, exact)\u001b[0m\n\u001b[1;32m    431\u001b[0m     \u001b[0;31m# `format` could be inferred, or user didn't ask for mixed-format parsing.\u001b[0m\u001b[0;34m\u001b[0m\u001b[0;34m\u001b[0m\u001b[0m\n\u001b[1;32m    432\u001b[0m     \u001b[0;32mif\u001b[0m \u001b[0mformat\u001b[0m \u001b[0;32mis\u001b[0m \u001b[0;32mnot\u001b[0m \u001b[0;32mNone\u001b[0m \u001b[0;32mand\u001b[0m \u001b[0mformat\u001b[0m \u001b[0;34m!=\u001b[0m \u001b[0;34m\"mixed\"\u001b[0m\u001b[0;34m:\u001b[0m\u001b[0;34m\u001b[0m\u001b[0;34m\u001b[0m\u001b[0m\n\u001b[0;32m--> 433\u001b[0;31m         \u001b[0;32mreturn\u001b[0m \u001b[0m_array_strptime_with_fallback\u001b[0m\u001b[0;34m(\u001b[0m\u001b[0marg\u001b[0m\u001b[0;34m,\u001b[0m \u001b[0mname\u001b[0m\u001b[0;34m,\u001b[0m \u001b[0mutc\u001b[0m\u001b[0;34m,\u001b[0m \u001b[0mformat\u001b[0m\u001b[0;34m,\u001b[0m \u001b[0mexact\u001b[0m\u001b[0;34m,\u001b[0m \u001b[0merrors\u001b[0m\u001b[0;34m)\u001b[0m\u001b[0;34m\u001b[0m\u001b[0;34m\u001b[0m\u001b[0m\n\u001b[0m\u001b[1;32m    434\u001b[0m \u001b[0;34m\u001b[0m\u001b[0m\n\u001b[1;32m    435\u001b[0m     result, tz_parsed = objects_to_datetime64(\n",
            "\u001b[0;32m/usr/local/lib/python3.11/dist-packages/pandas/core/tools/datetimes.py\u001b[0m in \u001b[0;36m_array_strptime_with_fallback\u001b[0;34m(arg, name, utc, fmt, exact, errors)\u001b[0m\n\u001b[1;32m    465\u001b[0m     \u001b[0mCall\u001b[0m \u001b[0marray_strptime\u001b[0m\u001b[0;34m,\u001b[0m \u001b[0;32mwith\u001b[0m \u001b[0mfallback\u001b[0m \u001b[0mbehavior\u001b[0m \u001b[0mdepending\u001b[0m \u001b[0mon\u001b[0m \u001b[0;34m'errors'\u001b[0m\u001b[0;34m.\u001b[0m\u001b[0;34m\u001b[0m\u001b[0;34m\u001b[0m\u001b[0m\n\u001b[1;32m    466\u001b[0m     \"\"\"\n\u001b[0;32m--> 467\u001b[0;31m     \u001b[0mresult\u001b[0m\u001b[0;34m,\u001b[0m \u001b[0mtz_out\u001b[0m \u001b[0;34m=\u001b[0m \u001b[0marray_strptime\u001b[0m\u001b[0;34m(\u001b[0m\u001b[0marg\u001b[0m\u001b[0;34m,\u001b[0m \u001b[0mfmt\u001b[0m\u001b[0;34m,\u001b[0m \u001b[0mexact\u001b[0m\u001b[0;34m=\u001b[0m\u001b[0mexact\u001b[0m\u001b[0;34m,\u001b[0m \u001b[0merrors\u001b[0m\u001b[0;34m=\u001b[0m\u001b[0merrors\u001b[0m\u001b[0;34m,\u001b[0m \u001b[0mutc\u001b[0m\u001b[0;34m=\u001b[0m\u001b[0mutc\u001b[0m\u001b[0;34m)\u001b[0m\u001b[0;34m\u001b[0m\u001b[0;34m\u001b[0m\u001b[0m\n\u001b[0m\u001b[1;32m    468\u001b[0m     \u001b[0;32mif\u001b[0m \u001b[0mtz_out\u001b[0m \u001b[0;32mis\u001b[0m \u001b[0;32mnot\u001b[0m \u001b[0;32mNone\u001b[0m\u001b[0;34m:\u001b[0m\u001b[0;34m\u001b[0m\u001b[0;34m\u001b[0m\u001b[0m\n\u001b[1;32m    469\u001b[0m         \u001b[0munit\u001b[0m \u001b[0;34m=\u001b[0m \u001b[0mnp\u001b[0m\u001b[0;34m.\u001b[0m\u001b[0mdatetime_data\u001b[0m\u001b[0;34m(\u001b[0m\u001b[0mresult\u001b[0m\u001b[0;34m.\u001b[0m\u001b[0mdtype\u001b[0m\u001b[0;34m)\u001b[0m\u001b[0;34m[\u001b[0m\u001b[0;36m0\u001b[0m\u001b[0;34m]\u001b[0m\u001b[0;34m\u001b[0m\u001b[0;34m\u001b[0m\u001b[0m\n",
            "\u001b[0;32mstrptime.pyx\u001b[0m in \u001b[0;36mpandas._libs.tslibs.strptime.array_strptime\u001b[0;34m()\u001b[0m\n",
            "\u001b[0;32mstrptime.pyx\u001b[0m in \u001b[0;36mpandas._libs.tslibs.strptime.array_strptime\u001b[0;34m()\u001b[0m\n",
            "\u001b[0;31mOutOfBoundsDatetime\u001b[0m: Out of bounds nanosecond timestamp: 2421-09-12, at position 370. You might want to try:\n    - passing `format` if your strings have a consistent format;\n    - passing `format='ISO8601'` if your strings are all ISO8601 but not necessarily in exactly the same format;\n    - passing `format='mixed'`, and the format will be inferred for each element individually. You might want to use `dayfirst` alongside this."
          ]
        }
      ],
      "source": [
        "#Create \"revenue\" var\n",
        "df['revenue'] = df['quantity'] * df['product_price']\n",
        "\n",
        "#Remove NULL rows\n",
        "df_clean = df.dropna()\n",
        "\n",
        "\n",
        "#Locate outliers in price\n",
        "def detect_outliers_iqr(data):\n",
        "    q1 = np.percentile(data, 25)\n",
        "    q3 = np.percentile(data, 75)\n",
        "    iqr = q3 - q1\n",
        "    lower_bound = q1 - 1.5 * iqr\n",
        "    upper_bound = q3 + 1.5 * iqr\n",
        "    outliers = np.where((data < lower_bound) | (data > upper_bound))[0]\n",
        "    return outliers\n",
        "\n",
        "\n",
        "price_outliers = detect_outliers_iqr(df_clean['product_price'])\n",
        "\n",
        "df_filtered = df_clean.drop(df_clean.index[price_outliers])\n",
        "\n",
        "#convert order_year_month\n",
        "df['order_date'] = pd.to_datetime(df['order_date']).dt.year\n",
        "df_filteredfin = df[(df['order_date'] <= 1922) & (df['order_date'] >= 2421)]\n",
        "df_filteredfin.head()\n",
        "\n",
        "\n"
      ]
    },
    {
      "cell_type": "markdown",
      "metadata": {
        "id": "nENRTSdOu6Md"
      },
      "source": [
        "## Summarize Data\n",
        "\n",
        "➡️ Assignment Tasks\n",
        "- Display the average price per product line\n",
        "- Display the total revenue for all months"
      ]
    },
    {
      "cell_type": "code",
      "execution_count": 30,
      "metadata": {
        "vscode": {
          "languageId": "plaintext"
        },
        "colab": {
          "base_uri": "https://localhost:8080/"
        },
        "id": "ehRC7teVu6Md",
        "outputId": "2a02bfd6-0da5-400e-e2c3-bb88b7a59f00"
      },
      "outputs": [
        {
          "output_type": "stream",
          "name": "stdout",
          "text": [
            "product_line\n",
            "Accessories         11.53\n",
            "Bikes             1694.67\n",
            "Cameras            735.84\n",
            "Clothing           237.56\n",
            "Electronics        693.96\n",
            "Laptop            3578.27\n",
            "Mobile            1014.05\n",
            "OfficeProducts       8.64\n",
            "Projector         3374.99\n",
            "Name: product_price, dtype: float64\n"
          ]
        }
      ],
      "source": [
        "#average price\n",
        "avg_price = df_ultfiltered.groupby('product_line')['product_price'].mean().round(2)\n",
        "print(avg_price)"
      ]
    },
    {
      "cell_type": "code",
      "execution_count": 31,
      "metadata": {
        "vscode": {
          "languageId": "plaintext"
        },
        "colab": {
          "base_uri": "https://localhost:8080/"
        },
        "id": "g0c_SSdXu6Me",
        "outputId": "c6200796-37ed-43ee-98a0-30d77842a887"
      },
      "outputs": [
        {
          "output_type": "stream",
          "name": "stdout",
          "text": [
            "order_year_month\n",
            "1922-06      30559.79\n",
            "2022-01      41998.32\n",
            "2022-02      15259.69\n",
            "2022-03      13982.00\n",
            "2022-04      16778.40\n",
            "2022-05      16778.40\n",
            "2022-06      19574.80\n",
            "2022-07     343534.28\n",
            "2022-08     385412.70\n",
            "2022-09     265522.64\n",
            "2022-10     328532.80\n",
            "2022-11     233153.10\n",
            "2022-12     490108.12\n",
            "2023-01     349351.96\n",
            "2023-02     366904.98\n",
            "2023-03     386839.02\n",
            "2023-04     429359.06\n",
            "2023-05     480725.00\n",
            "2023-06     449074.14\n",
            "2023-07    3103087.57\n",
            "2023-08    1677180.30\n",
            "2023-09    1736433.11\n",
            "2023-10    1819621.25\n",
            "2023-11    1946235.12\n",
            "2023-12    2551542.14\n",
            "2024-01    2124518.90\n",
            "2024-02    2068918.77\n",
            "2024-03    2298819.19\n",
            "2024-04    2350829.40\n",
            "2024-05    2710023.00\n",
            "2024-06    2620694.15\n",
            "2029-06         19.55\n",
            "2029-07      41775.34\n",
            "2029-08         39.94\n",
            "2421-09      32051.29\n",
            "Name: revenue, dtype: float64\n"
          ]
        }
      ],
      "source": [
        "#total revenue\n",
        "total_rev = df_ultfiltered.groupby('order_year_month')['revenue'].sum().round(2)\n",
        "print(total_rev)\n"
      ]
    }
  ],
  "metadata": {
    "language_info": {
      "name": "python"
    },
    "colab": {
      "provenance": []
    },
    "kernelspec": {
      "name": "python3",
      "display_name": "Python 3"
    }
  },
  "nbformat": 4,
  "nbformat_minor": 0
}