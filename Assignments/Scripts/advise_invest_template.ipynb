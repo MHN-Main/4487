{
  "cells": [
    {
      "cell_type": "markdown",
      "metadata": {
        "id": "view-in-github",
        "colab_type": "text"
      },
      "source": [
        "<a href=\"https://colab.research.google.com/github/MHN-Main/4487/blob/main/Assignments/Scripts/advise_invest_template.ipynb\" target=\"_parent\"><img src=\"https://colab.research.google.com/assets/colab-badge.svg\" alt=\"Open In Colab\"/></a>"
      ]
    },
    {
      "cell_type": "markdown",
      "metadata": {
        "id": "p_Yu45OYdj3Y"
      },
      "source": [
        "# AdviseInvest\n",
        "\n",
        "### Outline\n",
        "\n",
        "Our Goals with this Project:\n",
        "\n",
        "1. Import and review the data\n",
        "2. Perform EDA and Clean Data\n",
        "3. Fit a model\n",
        "4. Test the accuracy of the model\n",
        "6.  Use the model to predict on a new dataset (without the target)\n",
        "\n",
        "<a href=\"https://colab.research.google.com/github/Stan-Pugsley/is_4487_base/blob/main/Assignments/Scripts/advise_invest_template.ipynb\" target=\"_parent\"><img src=\"https://colab.research.google.com/assets/colab-badge.svg\" alt=\"Open In Colab\"/></a>"
      ]
    },
    {
      "cell_type": "markdown",
      "metadata": {
        "id": "OZrtT0lUaEUT"
      },
      "source": [
        "### AdviseInvest Data Dictionary\n",
        "\n",
        "Variable    |Description |Type    |Code\n",
        "---- | ------- | ------ | -----\n",
        "Answered       | Customer response |    Binary    |0: customer did not answer scheduled call; 1: customer answered scheduled call\n",
        "Income       | Customer income in US dollars|\tNumeric\n",
        "Female       | Customer gender|\tBinary\t0: female; 1: male\n",
        "Age\t         | Age in years|\tNumeric\n",
        "Job          | Nature of job|\tCategorical|\t0 : unemployed; 1 : entry level position; 2 : midlevel position; 3 : management/ self-employed/ highly qualified employee/ officer\n",
        "Num_dependents | Number of people for whom the customer provides maintenance|\tNumeric\n",
        "Rent\t| Customer rents\t|Binary\t|0: no; 1: yes\n",
        "Own_res\t| Customer owns residence|\tBinary|\t0: no; 1: yes\n",
        "New_car| Recent new car purchase\t|Binary|\tNew car purchase in the last 3 months: 0: no, 1: yes\n",
        "Chk_acct | Checking account status\t|Categorical|\t0 : no checking account; 1: checking < 200 USD; 2 : 200 < checking < 2000 USD; 3: 2000 < checking < 35000 USD; 4: >= 3500 USD\n",
        "Sav_acct\t| Average balance in savings account|\tCategorical|\t0 : no savings account; 1 : 100 <= savings < 500 USD; 2 : 500 <= savings < 2000 USD; 3 : 2000 < savings < 35000 USD; 4: >= 3500 USD\n",
        "Num_accts\t| Number of accounts owned by customer\t|Numeric\n",
        "Mobile\t| Mobile phone\t|Binary\t|0: customer provided non‐mobile phone for follow‐up call; 1: customer provided mobile phone for follow‐up call\n",
        "Product| Type of product purchased after conversation with sales rep\t|Categorical|\t0: customer did not answer call; 1: customer answered but did not purchase a product; 2: customer answered and purchased Beginner plan; 3: customer answered and purchased Intermediate plan; 4: customer answered and purchased Advanced plan\n",
        "\n"
      ]
    },
    {
      "cell_type": "markdown",
      "metadata": {
        "id": "UE93RwXhgiJS"
      },
      "source": [
        "### Load Libraries\n",
        "\n",
        "In this class we will be using\n",
        "- Pandas\n",
        "- Scikitlearn\n",
        "- Matplotlib\n"
      ]
    },
    {
      "cell_type": "code",
      "execution_count": 61,
      "metadata": {
        "id": "JYRZY5n0gfNe"
      },
      "outputs": [],
      "source": [
        "import pandas as pd\n",
        "import matplotlib as mpl\n",
        "import seaborn as sns\n",
        "\n",
        "from sklearn.model_selection import train_test_split\n",
        "from sklearn.tree import DecisionTreeClassifier, export_graphviz # Import Decision Tree Classifier\n",
        "from sklearn import metrics  #Import scikit-learn metrics module for accuracy calculation\n",
        "from sklearn.metrics import confusion_matrix\n",
        "import matplotlib.pyplot as plt\n"
      ]
    },
    {
      "cell_type": "markdown",
      "metadata": {
        "id": "bREaXo8jfu-O"
      },
      "source": [
        "## Step 1: Initial Data Understanding\n",
        "\n",
        " - Import data from the AdviseInvest historical dataset into a dataframe (in GitHub go to Assignments > DataSets)\n",
        " - Describe or profile the dataframe\n",
        " - Look for any outliers, missing values, or duplicates"
      ]
    },
    {
      "cell_type": "code",
      "execution_count": 62,
      "metadata": {
        "id": "6_FwprxVgR0e"
      },
      "outputs": [],
      "source": [
        "#Import the data\n",
        "df = pd.read_csv('https://github.com/Stan-Pugsley/is_4487_base/blob/main/Assignments/DataSets/adviseinvest_historical_data.csv?raw=true')\n"
      ]
    },
    {
      "cell_type": "code",
      "execution_count": 63,
      "metadata": {
        "id": "0wkRD0aBa_H7",
        "outputId": "551c6ead-0072-4b1a-8227-c55e3948e96e",
        "colab": {
          "base_uri": "https://localhost:8080/",
          "height": 523
        }
      },
      "outputs": [
        {
          "output_type": "execute_result",
          "data": {
            "text/plain": [
              "answered            int64\n",
              "income              int64\n",
              "female             object\n",
              "age                 int64\n",
              "job                 int64\n",
              "num_dependents      int64\n",
              "rent                int64\n",
              "own_res             int64\n",
              "new_car           float64\n",
              "chk_acct            int64\n",
              "sav_acct            int64\n",
              "num_accts           int64\n",
              "mobile              int64\n",
              "product             int64\n",
              "dtype: object"
            ],
            "text/html": [
              "<div>\n",
              "<style scoped>\n",
              "    .dataframe tbody tr th:only-of-type {\n",
              "        vertical-align: middle;\n",
              "    }\n",
              "\n",
              "    .dataframe tbody tr th {\n",
              "        vertical-align: top;\n",
              "    }\n",
              "\n",
              "    .dataframe thead th {\n",
              "        text-align: right;\n",
              "    }\n",
              "</style>\n",
              "<table border=\"1\" class=\"dataframe\">\n",
              "  <thead>\n",
              "    <tr style=\"text-align: right;\">\n",
              "      <th></th>\n",
              "      <th>0</th>\n",
              "    </tr>\n",
              "  </thead>\n",
              "  <tbody>\n",
              "    <tr>\n",
              "      <th>answered</th>\n",
              "      <td>int64</td>\n",
              "    </tr>\n",
              "    <tr>\n",
              "      <th>income</th>\n",
              "      <td>int64</td>\n",
              "    </tr>\n",
              "    <tr>\n",
              "      <th>female</th>\n",
              "      <td>object</td>\n",
              "    </tr>\n",
              "    <tr>\n",
              "      <th>age</th>\n",
              "      <td>int64</td>\n",
              "    </tr>\n",
              "    <tr>\n",
              "      <th>job</th>\n",
              "      <td>int64</td>\n",
              "    </tr>\n",
              "    <tr>\n",
              "      <th>num_dependents</th>\n",
              "      <td>int64</td>\n",
              "    </tr>\n",
              "    <tr>\n",
              "      <th>rent</th>\n",
              "      <td>int64</td>\n",
              "    </tr>\n",
              "    <tr>\n",
              "      <th>own_res</th>\n",
              "      <td>int64</td>\n",
              "    </tr>\n",
              "    <tr>\n",
              "      <th>new_car</th>\n",
              "      <td>float64</td>\n",
              "    </tr>\n",
              "    <tr>\n",
              "      <th>chk_acct</th>\n",
              "      <td>int64</td>\n",
              "    </tr>\n",
              "    <tr>\n",
              "      <th>sav_acct</th>\n",
              "      <td>int64</td>\n",
              "    </tr>\n",
              "    <tr>\n",
              "      <th>num_accts</th>\n",
              "      <td>int64</td>\n",
              "    </tr>\n",
              "    <tr>\n",
              "      <th>mobile</th>\n",
              "      <td>int64</td>\n",
              "    </tr>\n",
              "    <tr>\n",
              "      <th>product</th>\n",
              "      <td>int64</td>\n",
              "    </tr>\n",
              "  </tbody>\n",
              "</table>\n",
              "</div><br><label><b>dtype:</b> object</label>"
            ]
          },
          "metadata": {},
          "execution_count": 63
        }
      ],
      "source": [
        "#View the datatypes\n",
        "df.dtypes"
      ]
    },
    {
      "cell_type": "code",
      "execution_count": 64,
      "metadata": {
        "id": "QkKLnfFrbEOS",
        "outputId": "6e065d1f-b41f-4a83-a340-81debe346255",
        "colab": {
          "base_uri": "https://localhost:8080/",
          "height": 300
        }
      },
      "outputs": [
        {
          "output_type": "execute_result",
          "data": {
            "text/plain": [
              "           answered         income           age           job  \\\n",
              "count  29504.000000   29504.000000  29504.000000  29504.000000   \n",
              "mean       0.546638   33766.893303     34.773454      1.915401   \n",
              "std        0.497829   29379.202710     11.369865      0.658183   \n",
              "min        0.000000  -65600.000000     19.000000      0.000000   \n",
              "25%        0.000000   13550.000000     26.000000      2.000000   \n",
              "50%        1.000000   23310.000000     32.000000      2.000000   \n",
              "75%        1.000000   41690.000000     40.000000      2.000000   \n",
              "max        1.000000  159450.000000    132.000000      3.000000   \n",
              "\n",
              "       num_dependents          rent       own_res       new_car      chk_acct  \\\n",
              "count    29504.000000  29504.000000  29504.000000  29502.000000  29504.000000   \n",
              "mean         1.140998      0.210412      0.681128      0.240797      1.468547   \n",
              "std          0.348025      0.407608      0.466047      0.427575      1.234727   \n",
              "min          1.000000      0.000000      0.000000      0.000000      0.000000   \n",
              "25%          1.000000      0.000000      0.000000      0.000000      0.000000   \n",
              "50%          1.000000      0.000000      1.000000      0.000000      1.000000   \n",
              "75%          1.000000      0.000000      1.000000      0.000000      3.000000   \n",
              "max          2.000000      1.000000      1.000000      1.000000      3.000000   \n",
              "\n",
              "           sav_acct     num_accts        mobile       product  \n",
              "count  29504.000000  29504.000000  29504.000000  29504.000000  \n",
              "mean       0.956616      2.458345      0.091106      1.535792  \n",
              "std        1.483946     19.497380      0.287765      1.625916  \n",
              "min        0.000000      0.000000      0.000000      0.000000  \n",
              "25%        0.000000      2.000000      0.000000      0.000000  \n",
              "50%        0.000000      2.000000      0.000000      1.000000  \n",
              "75%        2.000000      3.000000      0.000000      3.000000  \n",
              "max        4.000000   3345.000000      1.000000      4.000000  "
            ],
            "text/html": [
              "\n",
              "  <div id=\"df-ae5d898b-070b-4a30-840f-71896f295581\" class=\"colab-df-container\">\n",
              "    <div>\n",
              "<style scoped>\n",
              "    .dataframe tbody tr th:only-of-type {\n",
              "        vertical-align: middle;\n",
              "    }\n",
              "\n",
              "    .dataframe tbody tr th {\n",
              "        vertical-align: top;\n",
              "    }\n",
              "\n",
              "    .dataframe thead th {\n",
              "        text-align: right;\n",
              "    }\n",
              "</style>\n",
              "<table border=\"1\" class=\"dataframe\">\n",
              "  <thead>\n",
              "    <tr style=\"text-align: right;\">\n",
              "      <th></th>\n",
              "      <th>answered</th>\n",
              "      <th>income</th>\n",
              "      <th>age</th>\n",
              "      <th>job</th>\n",
              "      <th>num_dependents</th>\n",
              "      <th>rent</th>\n",
              "      <th>own_res</th>\n",
              "      <th>new_car</th>\n",
              "      <th>chk_acct</th>\n",
              "      <th>sav_acct</th>\n",
              "      <th>num_accts</th>\n",
              "      <th>mobile</th>\n",
              "      <th>product</th>\n",
              "    </tr>\n",
              "  </thead>\n",
              "  <tbody>\n",
              "    <tr>\n",
              "      <th>count</th>\n",
              "      <td>29504.000000</td>\n",
              "      <td>29504.000000</td>\n",
              "      <td>29504.000000</td>\n",
              "      <td>29504.000000</td>\n",
              "      <td>29504.000000</td>\n",
              "      <td>29504.000000</td>\n",
              "      <td>29504.000000</td>\n",
              "      <td>29502.000000</td>\n",
              "      <td>29504.000000</td>\n",
              "      <td>29504.000000</td>\n",
              "      <td>29504.000000</td>\n",
              "      <td>29504.000000</td>\n",
              "      <td>29504.000000</td>\n",
              "    </tr>\n",
              "    <tr>\n",
              "      <th>mean</th>\n",
              "      <td>0.546638</td>\n",
              "      <td>33766.893303</td>\n",
              "      <td>34.773454</td>\n",
              "      <td>1.915401</td>\n",
              "      <td>1.140998</td>\n",
              "      <td>0.210412</td>\n",
              "      <td>0.681128</td>\n",
              "      <td>0.240797</td>\n",
              "      <td>1.468547</td>\n",
              "      <td>0.956616</td>\n",
              "      <td>2.458345</td>\n",
              "      <td>0.091106</td>\n",
              "      <td>1.535792</td>\n",
              "    </tr>\n",
              "    <tr>\n",
              "      <th>std</th>\n",
              "      <td>0.497829</td>\n",
              "      <td>29379.202710</td>\n",
              "      <td>11.369865</td>\n",
              "      <td>0.658183</td>\n",
              "      <td>0.348025</td>\n",
              "      <td>0.407608</td>\n",
              "      <td>0.466047</td>\n",
              "      <td>0.427575</td>\n",
              "      <td>1.234727</td>\n",
              "      <td>1.483946</td>\n",
              "      <td>19.497380</td>\n",
              "      <td>0.287765</td>\n",
              "      <td>1.625916</td>\n",
              "    </tr>\n",
              "    <tr>\n",
              "      <th>min</th>\n",
              "      <td>0.000000</td>\n",
              "      <td>-65600.000000</td>\n",
              "      <td>19.000000</td>\n",
              "      <td>0.000000</td>\n",
              "      <td>1.000000</td>\n",
              "      <td>0.000000</td>\n",
              "      <td>0.000000</td>\n",
              "      <td>0.000000</td>\n",
              "      <td>0.000000</td>\n",
              "      <td>0.000000</td>\n",
              "      <td>0.000000</td>\n",
              "      <td>0.000000</td>\n",
              "      <td>0.000000</td>\n",
              "    </tr>\n",
              "    <tr>\n",
              "      <th>25%</th>\n",
              "      <td>0.000000</td>\n",
              "      <td>13550.000000</td>\n",
              "      <td>26.000000</td>\n",
              "      <td>2.000000</td>\n",
              "      <td>1.000000</td>\n",
              "      <td>0.000000</td>\n",
              "      <td>0.000000</td>\n",
              "      <td>0.000000</td>\n",
              "      <td>0.000000</td>\n",
              "      <td>0.000000</td>\n",
              "      <td>2.000000</td>\n",
              "      <td>0.000000</td>\n",
              "      <td>0.000000</td>\n",
              "    </tr>\n",
              "    <tr>\n",
              "      <th>50%</th>\n",
              "      <td>1.000000</td>\n",
              "      <td>23310.000000</td>\n",
              "      <td>32.000000</td>\n",
              "      <td>2.000000</td>\n",
              "      <td>1.000000</td>\n",
              "      <td>0.000000</td>\n",
              "      <td>1.000000</td>\n",
              "      <td>0.000000</td>\n",
              "      <td>1.000000</td>\n",
              "      <td>0.000000</td>\n",
              "      <td>2.000000</td>\n",
              "      <td>0.000000</td>\n",
              "      <td>1.000000</td>\n",
              "    </tr>\n",
              "    <tr>\n",
              "      <th>75%</th>\n",
              "      <td>1.000000</td>\n",
              "      <td>41690.000000</td>\n",
              "      <td>40.000000</td>\n",
              "      <td>2.000000</td>\n",
              "      <td>1.000000</td>\n",
              "      <td>0.000000</td>\n",
              "      <td>1.000000</td>\n",
              "      <td>0.000000</td>\n",
              "      <td>3.000000</td>\n",
              "      <td>2.000000</td>\n",
              "      <td>3.000000</td>\n",
              "      <td>0.000000</td>\n",
              "      <td>3.000000</td>\n",
              "    </tr>\n",
              "    <tr>\n",
              "      <th>max</th>\n",
              "      <td>1.000000</td>\n",
              "      <td>159450.000000</td>\n",
              "      <td>132.000000</td>\n",
              "      <td>3.000000</td>\n",
              "      <td>2.000000</td>\n",
              "      <td>1.000000</td>\n",
              "      <td>1.000000</td>\n",
              "      <td>1.000000</td>\n",
              "      <td>3.000000</td>\n",
              "      <td>4.000000</td>\n",
              "      <td>3345.000000</td>\n",
              "      <td>1.000000</td>\n",
              "      <td>4.000000</td>\n",
              "    </tr>\n",
              "  </tbody>\n",
              "</table>\n",
              "</div>\n",
              "    <div class=\"colab-df-buttons\">\n",
              "\n",
              "  <div class=\"colab-df-container\">\n",
              "    <button class=\"colab-df-convert\" onclick=\"convertToInteractive('df-ae5d898b-070b-4a30-840f-71896f295581')\"\n",
              "            title=\"Convert this dataframe to an interactive table.\"\n",
              "            style=\"display:none;\">\n",
              "\n",
              "  <svg xmlns=\"http://www.w3.org/2000/svg\" height=\"24px\" viewBox=\"0 -960 960 960\">\n",
              "    <path d=\"M120-120v-720h720v720H120Zm60-500h600v-160H180v160Zm220 220h160v-160H400v160Zm0 220h160v-160H400v160ZM180-400h160v-160H180v160Zm440 0h160v-160H620v160ZM180-180h160v-160H180v160Zm440 0h160v-160H620v160Z\"/>\n",
              "  </svg>\n",
              "    </button>\n",
              "\n",
              "  <style>\n",
              "    .colab-df-container {\n",
              "      display:flex;\n",
              "      gap: 12px;\n",
              "    }\n",
              "\n",
              "    .colab-df-convert {\n",
              "      background-color: #E8F0FE;\n",
              "      border: none;\n",
              "      border-radius: 50%;\n",
              "      cursor: pointer;\n",
              "      display: none;\n",
              "      fill: #1967D2;\n",
              "      height: 32px;\n",
              "      padding: 0 0 0 0;\n",
              "      width: 32px;\n",
              "    }\n",
              "\n",
              "    .colab-df-convert:hover {\n",
              "      background-color: #E2EBFA;\n",
              "      box-shadow: 0px 1px 2px rgba(60, 64, 67, 0.3), 0px 1px 3px 1px rgba(60, 64, 67, 0.15);\n",
              "      fill: #174EA6;\n",
              "    }\n",
              "\n",
              "    .colab-df-buttons div {\n",
              "      margin-bottom: 4px;\n",
              "    }\n",
              "\n",
              "    [theme=dark] .colab-df-convert {\n",
              "      background-color: #3B4455;\n",
              "      fill: #D2E3FC;\n",
              "    }\n",
              "\n",
              "    [theme=dark] .colab-df-convert:hover {\n",
              "      background-color: #434B5C;\n",
              "      box-shadow: 0px 1px 3px 1px rgba(0, 0, 0, 0.15);\n",
              "      filter: drop-shadow(0px 1px 2px rgba(0, 0, 0, 0.3));\n",
              "      fill: #FFFFFF;\n",
              "    }\n",
              "  </style>\n",
              "\n",
              "    <script>\n",
              "      const buttonEl =\n",
              "        document.querySelector('#df-ae5d898b-070b-4a30-840f-71896f295581 button.colab-df-convert');\n",
              "      buttonEl.style.display =\n",
              "        google.colab.kernel.accessAllowed ? 'block' : 'none';\n",
              "\n",
              "      async function convertToInteractive(key) {\n",
              "        const element = document.querySelector('#df-ae5d898b-070b-4a30-840f-71896f295581');\n",
              "        const dataTable =\n",
              "          await google.colab.kernel.invokeFunction('convertToInteractive',\n",
              "                                                    [key], {});\n",
              "        if (!dataTable) return;\n",
              "\n",
              "        const docLinkHtml = 'Like what you see? Visit the ' +\n",
              "          '<a target=\"_blank\" href=https://colab.research.google.com/notebooks/data_table.ipynb>data table notebook</a>'\n",
              "          + ' to learn more about interactive tables.';\n",
              "        element.innerHTML = '';\n",
              "        dataTable['output_type'] = 'display_data';\n",
              "        await google.colab.output.renderOutput(dataTable, element);\n",
              "        const docLink = document.createElement('div');\n",
              "        docLink.innerHTML = docLinkHtml;\n",
              "        element.appendChild(docLink);\n",
              "      }\n",
              "    </script>\n",
              "  </div>\n",
              "\n",
              "\n",
              "<div id=\"df-28b6ca53-da22-4e4c-8862-7e6cc1890b66\">\n",
              "  <button class=\"colab-df-quickchart\" onclick=\"quickchart('df-28b6ca53-da22-4e4c-8862-7e6cc1890b66')\"\n",
              "            title=\"Suggest charts\"\n",
              "            style=\"display:none;\">\n",
              "\n",
              "<svg xmlns=\"http://www.w3.org/2000/svg\" height=\"24px\"viewBox=\"0 0 24 24\"\n",
              "     width=\"24px\">\n",
              "    <g>\n",
              "        <path d=\"M19 3H5c-1.1 0-2 .9-2 2v14c0 1.1.9 2 2 2h14c1.1 0 2-.9 2-2V5c0-1.1-.9-2-2-2zM9 17H7v-7h2v7zm4 0h-2V7h2v10zm4 0h-2v-4h2v4z\"/>\n",
              "    </g>\n",
              "</svg>\n",
              "  </button>\n",
              "\n",
              "<style>\n",
              "  .colab-df-quickchart {\n",
              "      --bg-color: #E8F0FE;\n",
              "      --fill-color: #1967D2;\n",
              "      --hover-bg-color: #E2EBFA;\n",
              "      --hover-fill-color: #174EA6;\n",
              "      --disabled-fill-color: #AAA;\n",
              "      --disabled-bg-color: #DDD;\n",
              "  }\n",
              "\n",
              "  [theme=dark] .colab-df-quickchart {\n",
              "      --bg-color: #3B4455;\n",
              "      --fill-color: #D2E3FC;\n",
              "      --hover-bg-color: #434B5C;\n",
              "      --hover-fill-color: #FFFFFF;\n",
              "      --disabled-bg-color: #3B4455;\n",
              "      --disabled-fill-color: #666;\n",
              "  }\n",
              "\n",
              "  .colab-df-quickchart {\n",
              "    background-color: var(--bg-color);\n",
              "    border: none;\n",
              "    border-radius: 50%;\n",
              "    cursor: pointer;\n",
              "    display: none;\n",
              "    fill: var(--fill-color);\n",
              "    height: 32px;\n",
              "    padding: 0;\n",
              "    width: 32px;\n",
              "  }\n",
              "\n",
              "  .colab-df-quickchart:hover {\n",
              "    background-color: var(--hover-bg-color);\n",
              "    box-shadow: 0 1px 2px rgba(60, 64, 67, 0.3), 0 1px 3px 1px rgba(60, 64, 67, 0.15);\n",
              "    fill: var(--button-hover-fill-color);\n",
              "  }\n",
              "\n",
              "  .colab-df-quickchart-complete:disabled,\n",
              "  .colab-df-quickchart-complete:disabled:hover {\n",
              "    background-color: var(--disabled-bg-color);\n",
              "    fill: var(--disabled-fill-color);\n",
              "    box-shadow: none;\n",
              "  }\n",
              "\n",
              "  .colab-df-spinner {\n",
              "    border: 2px solid var(--fill-color);\n",
              "    border-color: transparent;\n",
              "    border-bottom-color: var(--fill-color);\n",
              "    animation:\n",
              "      spin 1s steps(1) infinite;\n",
              "  }\n",
              "\n",
              "  @keyframes spin {\n",
              "    0% {\n",
              "      border-color: transparent;\n",
              "      border-bottom-color: var(--fill-color);\n",
              "      border-left-color: var(--fill-color);\n",
              "    }\n",
              "    20% {\n",
              "      border-color: transparent;\n",
              "      border-left-color: var(--fill-color);\n",
              "      border-top-color: var(--fill-color);\n",
              "    }\n",
              "    30% {\n",
              "      border-color: transparent;\n",
              "      border-left-color: var(--fill-color);\n",
              "      border-top-color: var(--fill-color);\n",
              "      border-right-color: var(--fill-color);\n",
              "    }\n",
              "    40% {\n",
              "      border-color: transparent;\n",
              "      border-right-color: var(--fill-color);\n",
              "      border-top-color: var(--fill-color);\n",
              "    }\n",
              "    60% {\n",
              "      border-color: transparent;\n",
              "      border-right-color: var(--fill-color);\n",
              "    }\n",
              "    80% {\n",
              "      border-color: transparent;\n",
              "      border-right-color: var(--fill-color);\n",
              "      border-bottom-color: var(--fill-color);\n",
              "    }\n",
              "    90% {\n",
              "      border-color: transparent;\n",
              "      border-bottom-color: var(--fill-color);\n",
              "    }\n",
              "  }\n",
              "</style>\n",
              "\n",
              "  <script>\n",
              "    async function quickchart(key) {\n",
              "      const quickchartButtonEl =\n",
              "        document.querySelector('#' + key + ' button');\n",
              "      quickchartButtonEl.disabled = true;  // To prevent multiple clicks.\n",
              "      quickchartButtonEl.classList.add('colab-df-spinner');\n",
              "      try {\n",
              "        const charts = await google.colab.kernel.invokeFunction(\n",
              "            'suggestCharts', [key], {});\n",
              "      } catch (error) {\n",
              "        console.error('Error during call to suggestCharts:', error);\n",
              "      }\n",
              "      quickchartButtonEl.classList.remove('colab-df-spinner');\n",
              "      quickchartButtonEl.classList.add('colab-df-quickchart-complete');\n",
              "    }\n",
              "    (() => {\n",
              "      let quickchartButtonEl =\n",
              "        document.querySelector('#df-28b6ca53-da22-4e4c-8862-7e6cc1890b66 button');\n",
              "      quickchartButtonEl.style.display =\n",
              "        google.colab.kernel.accessAllowed ? 'block' : 'none';\n",
              "    })();\n",
              "  </script>\n",
              "</div>\n",
              "\n",
              "    </div>\n",
              "  </div>\n"
            ],
            "application/vnd.google.colaboratory.intrinsic+json": {
              "type": "dataframe",
              "summary": "{\n  \"name\": \"df\",\n  \"rows\": 8,\n  \"fields\": [\n    {\n      \"column\": \"answered\",\n      \"properties\": {\n        \"dtype\": \"number\",\n        \"std\": 10431.03496794977,\n        \"min\": 0.0,\n        \"max\": 29504.0,\n        \"num_unique_values\": 5,\n        \"samples\": [\n          0.5466377440347071,\n          1.0,\n          0.4978286058695119\n        ],\n        \"semantic_type\": \"\",\n        \"description\": \"\"\n      }\n    },\n    {\n      \"column\": \"income\",\n      \"properties\": {\n        \"dtype\": \"number\",\n        \"std\": 61278.12436127039,\n        \"min\": -65600.0,\n        \"max\": 159450.0,\n        \"num_unique_values\": 8,\n        \"samples\": [\n          33766.893302603035,\n          23310.0,\n          29504.0\n        ],\n        \"semantic_type\": \"\",\n        \"description\": \"\"\n      }\n    },\n    {\n      \"column\": \"age\",\n      \"properties\": {\n        \"dtype\": \"number\",\n        \"std\": 10416.400678365655,\n        \"min\": 11.36986493969898,\n        \"max\": 29504.0,\n        \"num_unique_values\": 8,\n        \"samples\": [\n          34.773454446854664,\n          32.0,\n          29504.0\n        ],\n        \"semantic_type\": \"\",\n        \"description\": \"\"\n      }\n    },\n    {\n      \"column\": \"job\",\n      \"properties\": {\n        \"dtype\": \"number\",\n        \"std\": 10430.65472264284,\n        \"min\": 0.0,\n        \"max\": 29504.0,\n        \"num_unique_values\": 6,\n        \"samples\": [\n          29504.0,\n          1.9154013015184381,\n          3.0\n        ],\n        \"semantic_type\": \"\",\n        \"description\": \"\"\n      }\n    },\n    {\n      \"column\": \"num_dependents\",\n      \"properties\": {\n        \"dtype\": \"number\",\n        \"std\": 10430.860992940645,\n        \"min\": 0.3480252114000592,\n        \"max\": 29504.0,\n        \"num_unique_values\": 5,\n        \"samples\": [\n          1.140997830802603,\n          2.0,\n          0.3480252114000592\n        ],\n        \"semantic_type\": \"\",\n        \"description\": \"\"\n      }\n    },\n    {\n      \"column\": \"rent\",\n      \"properties\": {\n        \"dtype\": \"number\",\n        \"std\": 10431.157519419012,\n        \"min\": 0.0,\n        \"max\": 29504.0,\n        \"num_unique_values\": 5,\n        \"samples\": [\n          0.210412147505423,\n          1.0,\n          0.4076082763404077\n        ],\n        \"semantic_type\": \"\",\n        \"description\": \"\"\n      }\n    },\n    {\n      \"column\": \"own_res\",\n      \"properties\": {\n        \"dtype\": \"number\",\n        \"std\": 10431.029780466983,\n        \"min\": 0.0,\n        \"max\": 29504.0,\n        \"num_unique_values\": 5,\n        \"samples\": [\n          0.6811279826464208,\n          1.0,\n          0.4660472246635043\n        ],\n        \"semantic_type\": \"\",\n        \"description\": \"\"\n      }\n    },\n    {\n      \"column\": \"new_car\",\n      \"properties\": {\n        \"dtype\": \"number\",\n        \"std\": 10430.44786954917,\n        \"min\": 0.0,\n        \"max\": 29502.0,\n        \"num_unique_values\": 5,\n        \"samples\": [\n          0.24079723408582468,\n          1.0,\n          0.42757469875406806\n        ],\n        \"semantic_type\": \"\",\n        \"description\": \"\"\n      }\n    },\n    {\n      \"column\": \"chk_acct\",\n      \"properties\": {\n        \"dtype\": \"number\",\n        \"std\": 10430.749209953663,\n        \"min\": 0.0,\n        \"max\": 29504.0,\n        \"num_unique_values\": 6,\n        \"samples\": [\n          29504.0,\n          1.4685466377440346,\n          3.0\n        ],\n        \"semantic_type\": \"\",\n        \"description\": \"\"\n      }\n    },\n    {\n      \"column\": \"sav_acct\",\n      \"properties\": {\n        \"dtype\": \"number\",\n        \"std\": 10430.813011888733,\n        \"min\": 0.0,\n        \"max\": 29504.0,\n        \"num_unique_values\": 6,\n        \"samples\": [\n          29504.0,\n          0.9566160520607375,\n          4.0\n        ],\n        \"semantic_type\": \"\",\n        \"description\": \"\"\n      }\n    },\n    {\n      \"column\": \"num_accts\",\n      \"properties\": {\n        \"dtype\": \"number\",\n        \"std\": 10327.18636565093,\n        \"min\": 0.0,\n        \"max\": 29504.0,\n        \"num_unique_values\": 7,\n        \"samples\": [\n          29504.0,\n          2.4583446312364425,\n          3.0\n        ],\n        \"semantic_type\": \"\",\n        \"description\": \"\"\n      }\n    },\n    {\n      \"column\": \"mobile\",\n      \"properties\": {\n        \"dtype\": \"number\",\n        \"std\": 10431.169598154367,\n        \"min\": 0.0,\n        \"max\": 29504.0,\n        \"num_unique_values\": 5,\n        \"samples\": [\n          0.0911062906724512,\n          1.0,\n          0.2877650798268476\n        ],\n        \"semantic_type\": \"\",\n        \"description\": \"\"\n      }\n    },\n    {\n      \"column\": \"product\",\n      \"properties\": {\n        \"dtype\": \"number\",\n        \"std\": 10430.675575119061,\n        \"min\": 0.0,\n        \"max\": 29504.0,\n        \"num_unique_values\": 7,\n        \"samples\": [\n          29504.0,\n          1.5357917570498916,\n          3.0\n        ],\n        \"semantic_type\": \"\",\n        \"description\": \"\"\n      }\n    }\n  ]\n}"
            }
          },
          "metadata": {},
          "execution_count": 64
        }
      ],
      "source": [
        "#Describe the\n",
        "df.describe()"
      ]
    },
    {
      "cell_type": "markdown",
      "metadata": {
        "id": "BtxOWvFlKzgE"
      },
      "source": [
        "## Step 2: Data Preparation\n",
        "\n",
        "### 2.1: Data Cleanup\n",
        "- Remove any variables that are not relevant to our analysis (if they relate to activity after the answer).\n",
        "- Clean up the data and put it in a new datafram named \"df_clean\"\n"
      ]
    },
    {
      "cell_type": "code",
      "execution_count": 65,
      "metadata": {
        "id": "7KXLvMcBK8Za",
        "outputId": "790d9264-c9be-4253-fa0c-039ef043fd0a",
        "colab": {
          "base_uri": "https://localhost:8080/",
          "height": 300
        }
      },
      "outputs": [
        {
          "output_type": "execute_result",
          "data": {
            "text/plain": [
              "           answered         income           age           job  \\\n",
              "count  29504.000000   29504.000000  29504.000000  29504.000000   \n",
              "mean       0.546638   33766.893303     34.773454      1.915401   \n",
              "std        0.497829   29379.202710     11.369865      0.658183   \n",
              "min        0.000000  -65600.000000     19.000000      0.000000   \n",
              "25%        0.000000   13550.000000     26.000000      2.000000   \n",
              "50%        1.000000   23310.000000     32.000000      2.000000   \n",
              "75%        1.000000   41690.000000     40.000000      2.000000   \n",
              "max        1.000000  159450.000000    132.000000      3.000000   \n",
              "\n",
              "       num_dependents          rent       own_res       new_car      chk_acct  \\\n",
              "count    29504.000000  29504.000000  29504.000000  29502.000000  29504.000000   \n",
              "mean         1.140998      0.210412      0.681128      0.240797      1.468547   \n",
              "std          0.348025      0.407608      0.466047      0.427575      1.234727   \n",
              "min          1.000000      0.000000      0.000000      0.000000      0.000000   \n",
              "25%          1.000000      0.000000      0.000000      0.000000      0.000000   \n",
              "50%          1.000000      0.000000      1.000000      0.000000      1.000000   \n",
              "75%          1.000000      0.000000      1.000000      0.000000      3.000000   \n",
              "max          2.000000      1.000000      1.000000      1.000000      3.000000   \n",
              "\n",
              "           sav_acct     num_accts        mobile       product  \n",
              "count  29504.000000  29504.000000  29504.000000  29504.000000  \n",
              "mean       0.956616      2.458345      0.091106      1.535792  \n",
              "std        1.483946     19.497380      0.287765      1.625916  \n",
              "min        0.000000      0.000000      0.000000      0.000000  \n",
              "25%        0.000000      2.000000      0.000000      0.000000  \n",
              "50%        0.000000      2.000000      0.000000      1.000000  \n",
              "75%        2.000000      3.000000      0.000000      3.000000  \n",
              "max        4.000000   3345.000000      1.000000      4.000000  "
            ],
            "text/html": [
              "\n",
              "  <div id=\"df-ba4fd672-4cdd-46c6-91ae-560f31e26702\" class=\"colab-df-container\">\n",
              "    <div>\n",
              "<style scoped>\n",
              "    .dataframe tbody tr th:only-of-type {\n",
              "        vertical-align: middle;\n",
              "    }\n",
              "\n",
              "    .dataframe tbody tr th {\n",
              "        vertical-align: top;\n",
              "    }\n",
              "\n",
              "    .dataframe thead th {\n",
              "        text-align: right;\n",
              "    }\n",
              "</style>\n",
              "<table border=\"1\" class=\"dataframe\">\n",
              "  <thead>\n",
              "    <tr style=\"text-align: right;\">\n",
              "      <th></th>\n",
              "      <th>answered</th>\n",
              "      <th>income</th>\n",
              "      <th>age</th>\n",
              "      <th>job</th>\n",
              "      <th>num_dependents</th>\n",
              "      <th>rent</th>\n",
              "      <th>own_res</th>\n",
              "      <th>new_car</th>\n",
              "      <th>chk_acct</th>\n",
              "      <th>sav_acct</th>\n",
              "      <th>num_accts</th>\n",
              "      <th>mobile</th>\n",
              "      <th>product</th>\n",
              "    </tr>\n",
              "  </thead>\n",
              "  <tbody>\n",
              "    <tr>\n",
              "      <th>count</th>\n",
              "      <td>29504.000000</td>\n",
              "      <td>29504.000000</td>\n",
              "      <td>29504.000000</td>\n",
              "      <td>29504.000000</td>\n",
              "      <td>29504.000000</td>\n",
              "      <td>29504.000000</td>\n",
              "      <td>29504.000000</td>\n",
              "      <td>29502.000000</td>\n",
              "      <td>29504.000000</td>\n",
              "      <td>29504.000000</td>\n",
              "      <td>29504.000000</td>\n",
              "      <td>29504.000000</td>\n",
              "      <td>29504.000000</td>\n",
              "    </tr>\n",
              "    <tr>\n",
              "      <th>mean</th>\n",
              "      <td>0.546638</td>\n",
              "      <td>33766.893303</td>\n",
              "      <td>34.773454</td>\n",
              "      <td>1.915401</td>\n",
              "      <td>1.140998</td>\n",
              "      <td>0.210412</td>\n",
              "      <td>0.681128</td>\n",
              "      <td>0.240797</td>\n",
              "      <td>1.468547</td>\n",
              "      <td>0.956616</td>\n",
              "      <td>2.458345</td>\n",
              "      <td>0.091106</td>\n",
              "      <td>1.535792</td>\n",
              "    </tr>\n",
              "    <tr>\n",
              "      <th>std</th>\n",
              "      <td>0.497829</td>\n",
              "      <td>29379.202710</td>\n",
              "      <td>11.369865</td>\n",
              "      <td>0.658183</td>\n",
              "      <td>0.348025</td>\n",
              "      <td>0.407608</td>\n",
              "      <td>0.466047</td>\n",
              "      <td>0.427575</td>\n",
              "      <td>1.234727</td>\n",
              "      <td>1.483946</td>\n",
              "      <td>19.497380</td>\n",
              "      <td>0.287765</td>\n",
              "      <td>1.625916</td>\n",
              "    </tr>\n",
              "    <tr>\n",
              "      <th>min</th>\n",
              "      <td>0.000000</td>\n",
              "      <td>-65600.000000</td>\n",
              "      <td>19.000000</td>\n",
              "      <td>0.000000</td>\n",
              "      <td>1.000000</td>\n",
              "      <td>0.000000</td>\n",
              "      <td>0.000000</td>\n",
              "      <td>0.000000</td>\n",
              "      <td>0.000000</td>\n",
              "      <td>0.000000</td>\n",
              "      <td>0.000000</td>\n",
              "      <td>0.000000</td>\n",
              "      <td>0.000000</td>\n",
              "    </tr>\n",
              "    <tr>\n",
              "      <th>25%</th>\n",
              "      <td>0.000000</td>\n",
              "      <td>13550.000000</td>\n",
              "      <td>26.000000</td>\n",
              "      <td>2.000000</td>\n",
              "      <td>1.000000</td>\n",
              "      <td>0.000000</td>\n",
              "      <td>0.000000</td>\n",
              "      <td>0.000000</td>\n",
              "      <td>0.000000</td>\n",
              "      <td>0.000000</td>\n",
              "      <td>2.000000</td>\n",
              "      <td>0.000000</td>\n",
              "      <td>0.000000</td>\n",
              "    </tr>\n",
              "    <tr>\n",
              "      <th>50%</th>\n",
              "      <td>1.000000</td>\n",
              "      <td>23310.000000</td>\n",
              "      <td>32.000000</td>\n",
              "      <td>2.000000</td>\n",
              "      <td>1.000000</td>\n",
              "      <td>0.000000</td>\n",
              "      <td>1.000000</td>\n",
              "      <td>0.000000</td>\n",
              "      <td>1.000000</td>\n",
              "      <td>0.000000</td>\n",
              "      <td>2.000000</td>\n",
              "      <td>0.000000</td>\n",
              "      <td>1.000000</td>\n",
              "    </tr>\n",
              "    <tr>\n",
              "      <th>75%</th>\n",
              "      <td>1.000000</td>\n",
              "      <td>41690.000000</td>\n",
              "      <td>40.000000</td>\n",
              "      <td>2.000000</td>\n",
              "      <td>1.000000</td>\n",
              "      <td>0.000000</td>\n",
              "      <td>1.000000</td>\n",
              "      <td>0.000000</td>\n",
              "      <td>3.000000</td>\n",
              "      <td>2.000000</td>\n",
              "      <td>3.000000</td>\n",
              "      <td>0.000000</td>\n",
              "      <td>3.000000</td>\n",
              "    </tr>\n",
              "    <tr>\n",
              "      <th>max</th>\n",
              "      <td>1.000000</td>\n",
              "      <td>159450.000000</td>\n",
              "      <td>132.000000</td>\n",
              "      <td>3.000000</td>\n",
              "      <td>2.000000</td>\n",
              "      <td>1.000000</td>\n",
              "      <td>1.000000</td>\n",
              "      <td>1.000000</td>\n",
              "      <td>3.000000</td>\n",
              "      <td>4.000000</td>\n",
              "      <td>3345.000000</td>\n",
              "      <td>1.000000</td>\n",
              "      <td>4.000000</td>\n",
              "    </tr>\n",
              "  </tbody>\n",
              "</table>\n",
              "</div>\n",
              "    <div class=\"colab-df-buttons\">\n",
              "\n",
              "  <div class=\"colab-df-container\">\n",
              "    <button class=\"colab-df-convert\" onclick=\"convertToInteractive('df-ba4fd672-4cdd-46c6-91ae-560f31e26702')\"\n",
              "            title=\"Convert this dataframe to an interactive table.\"\n",
              "            style=\"display:none;\">\n",
              "\n",
              "  <svg xmlns=\"http://www.w3.org/2000/svg\" height=\"24px\" viewBox=\"0 -960 960 960\">\n",
              "    <path d=\"M120-120v-720h720v720H120Zm60-500h600v-160H180v160Zm220 220h160v-160H400v160Zm0 220h160v-160H400v160ZM180-400h160v-160H180v160Zm440 0h160v-160H620v160ZM180-180h160v-160H180v160Zm440 0h160v-160H620v160Z\"/>\n",
              "  </svg>\n",
              "    </button>\n",
              "\n",
              "  <style>\n",
              "    .colab-df-container {\n",
              "      display:flex;\n",
              "      gap: 12px;\n",
              "    }\n",
              "\n",
              "    .colab-df-convert {\n",
              "      background-color: #E8F0FE;\n",
              "      border: none;\n",
              "      border-radius: 50%;\n",
              "      cursor: pointer;\n",
              "      display: none;\n",
              "      fill: #1967D2;\n",
              "      height: 32px;\n",
              "      padding: 0 0 0 0;\n",
              "      width: 32px;\n",
              "    }\n",
              "\n",
              "    .colab-df-convert:hover {\n",
              "      background-color: #E2EBFA;\n",
              "      box-shadow: 0px 1px 2px rgba(60, 64, 67, 0.3), 0px 1px 3px 1px rgba(60, 64, 67, 0.15);\n",
              "      fill: #174EA6;\n",
              "    }\n",
              "\n",
              "    .colab-df-buttons div {\n",
              "      margin-bottom: 4px;\n",
              "    }\n",
              "\n",
              "    [theme=dark] .colab-df-convert {\n",
              "      background-color: #3B4455;\n",
              "      fill: #D2E3FC;\n",
              "    }\n",
              "\n",
              "    [theme=dark] .colab-df-convert:hover {\n",
              "      background-color: #434B5C;\n",
              "      box-shadow: 0px 1px 3px 1px rgba(0, 0, 0, 0.15);\n",
              "      filter: drop-shadow(0px 1px 2px rgba(0, 0, 0, 0.3));\n",
              "      fill: #FFFFFF;\n",
              "    }\n",
              "  </style>\n",
              "\n",
              "    <script>\n",
              "      const buttonEl =\n",
              "        document.querySelector('#df-ba4fd672-4cdd-46c6-91ae-560f31e26702 button.colab-df-convert');\n",
              "      buttonEl.style.display =\n",
              "        google.colab.kernel.accessAllowed ? 'block' : 'none';\n",
              "\n",
              "      async function convertToInteractive(key) {\n",
              "        const element = document.querySelector('#df-ba4fd672-4cdd-46c6-91ae-560f31e26702');\n",
              "        const dataTable =\n",
              "          await google.colab.kernel.invokeFunction('convertToInteractive',\n",
              "                                                    [key], {});\n",
              "        if (!dataTable) return;\n",
              "\n",
              "        const docLinkHtml = 'Like what you see? Visit the ' +\n",
              "          '<a target=\"_blank\" href=https://colab.research.google.com/notebooks/data_table.ipynb>data table notebook</a>'\n",
              "          + ' to learn more about interactive tables.';\n",
              "        element.innerHTML = '';\n",
              "        dataTable['output_type'] = 'display_data';\n",
              "        await google.colab.output.renderOutput(dataTable, element);\n",
              "        const docLink = document.createElement('div');\n",
              "        docLink.innerHTML = docLinkHtml;\n",
              "        element.appendChild(docLink);\n",
              "      }\n",
              "    </script>\n",
              "  </div>\n",
              "\n",
              "\n",
              "<div id=\"df-c71c05d9-36ed-42d8-baba-8b51180c1635\">\n",
              "  <button class=\"colab-df-quickchart\" onclick=\"quickchart('df-c71c05d9-36ed-42d8-baba-8b51180c1635')\"\n",
              "            title=\"Suggest charts\"\n",
              "            style=\"display:none;\">\n",
              "\n",
              "<svg xmlns=\"http://www.w3.org/2000/svg\" height=\"24px\"viewBox=\"0 0 24 24\"\n",
              "     width=\"24px\">\n",
              "    <g>\n",
              "        <path d=\"M19 3H5c-1.1 0-2 .9-2 2v14c0 1.1.9 2 2 2h14c1.1 0 2-.9 2-2V5c0-1.1-.9-2-2-2zM9 17H7v-7h2v7zm4 0h-2V7h2v10zm4 0h-2v-4h2v4z\"/>\n",
              "    </g>\n",
              "</svg>\n",
              "  </button>\n",
              "\n",
              "<style>\n",
              "  .colab-df-quickchart {\n",
              "      --bg-color: #E8F0FE;\n",
              "      --fill-color: #1967D2;\n",
              "      --hover-bg-color: #E2EBFA;\n",
              "      --hover-fill-color: #174EA6;\n",
              "      --disabled-fill-color: #AAA;\n",
              "      --disabled-bg-color: #DDD;\n",
              "  }\n",
              "\n",
              "  [theme=dark] .colab-df-quickchart {\n",
              "      --bg-color: #3B4455;\n",
              "      --fill-color: #D2E3FC;\n",
              "      --hover-bg-color: #434B5C;\n",
              "      --hover-fill-color: #FFFFFF;\n",
              "      --disabled-bg-color: #3B4455;\n",
              "      --disabled-fill-color: #666;\n",
              "  }\n",
              "\n",
              "  .colab-df-quickchart {\n",
              "    background-color: var(--bg-color);\n",
              "    border: none;\n",
              "    border-radius: 50%;\n",
              "    cursor: pointer;\n",
              "    display: none;\n",
              "    fill: var(--fill-color);\n",
              "    height: 32px;\n",
              "    padding: 0;\n",
              "    width: 32px;\n",
              "  }\n",
              "\n",
              "  .colab-df-quickchart:hover {\n",
              "    background-color: var(--hover-bg-color);\n",
              "    box-shadow: 0 1px 2px rgba(60, 64, 67, 0.3), 0 1px 3px 1px rgba(60, 64, 67, 0.15);\n",
              "    fill: var(--button-hover-fill-color);\n",
              "  }\n",
              "\n",
              "  .colab-df-quickchart-complete:disabled,\n",
              "  .colab-df-quickchart-complete:disabled:hover {\n",
              "    background-color: var(--disabled-bg-color);\n",
              "    fill: var(--disabled-fill-color);\n",
              "    box-shadow: none;\n",
              "  }\n",
              "\n",
              "  .colab-df-spinner {\n",
              "    border: 2px solid var(--fill-color);\n",
              "    border-color: transparent;\n",
              "    border-bottom-color: var(--fill-color);\n",
              "    animation:\n",
              "      spin 1s steps(1) infinite;\n",
              "  }\n",
              "\n",
              "  @keyframes spin {\n",
              "    0% {\n",
              "      border-color: transparent;\n",
              "      border-bottom-color: var(--fill-color);\n",
              "      border-left-color: var(--fill-color);\n",
              "    }\n",
              "    20% {\n",
              "      border-color: transparent;\n",
              "      border-left-color: var(--fill-color);\n",
              "      border-top-color: var(--fill-color);\n",
              "    }\n",
              "    30% {\n",
              "      border-color: transparent;\n",
              "      border-left-color: var(--fill-color);\n",
              "      border-top-color: var(--fill-color);\n",
              "      border-right-color: var(--fill-color);\n",
              "    }\n",
              "    40% {\n",
              "      border-color: transparent;\n",
              "      border-right-color: var(--fill-color);\n",
              "      border-top-color: var(--fill-color);\n",
              "    }\n",
              "    60% {\n",
              "      border-color: transparent;\n",
              "      border-right-color: var(--fill-color);\n",
              "    }\n",
              "    80% {\n",
              "      border-color: transparent;\n",
              "      border-right-color: var(--fill-color);\n",
              "      border-bottom-color: var(--fill-color);\n",
              "    }\n",
              "    90% {\n",
              "      border-color: transparent;\n",
              "      border-bottom-color: var(--fill-color);\n",
              "    }\n",
              "  }\n",
              "</style>\n",
              "\n",
              "  <script>\n",
              "    async function quickchart(key) {\n",
              "      const quickchartButtonEl =\n",
              "        document.querySelector('#' + key + ' button');\n",
              "      quickchartButtonEl.disabled = true;  // To prevent multiple clicks.\n",
              "      quickchartButtonEl.classList.add('colab-df-spinner');\n",
              "      try {\n",
              "        const charts = await google.colab.kernel.invokeFunction(\n",
              "            'suggestCharts', [key], {});\n",
              "      } catch (error) {\n",
              "        console.error('Error during call to suggestCharts:', error);\n",
              "      }\n",
              "      quickchartButtonEl.classList.remove('colab-df-spinner');\n",
              "      quickchartButtonEl.classList.add('colab-df-quickchart-complete');\n",
              "    }\n",
              "    (() => {\n",
              "      let quickchartButtonEl =\n",
              "        document.querySelector('#df-c71c05d9-36ed-42d8-baba-8b51180c1635 button');\n",
              "      quickchartButtonEl.style.display =\n",
              "        google.colab.kernel.accessAllowed ? 'block' : 'none';\n",
              "    })();\n",
              "  </script>\n",
              "</div>\n",
              "\n",
              "    </div>\n",
              "  </div>\n"
            ],
            "application/vnd.google.colaboratory.intrinsic+json": {
              "type": "dataframe",
              "summary": "{\n  \"name\": \"df\",\n  \"rows\": 8,\n  \"fields\": [\n    {\n      \"column\": \"answered\",\n      \"properties\": {\n        \"dtype\": \"number\",\n        \"std\": 10431.03496794977,\n        \"min\": 0.0,\n        \"max\": 29504.0,\n        \"num_unique_values\": 5,\n        \"samples\": [\n          0.5466377440347071,\n          1.0,\n          0.4978286058695119\n        ],\n        \"semantic_type\": \"\",\n        \"description\": \"\"\n      }\n    },\n    {\n      \"column\": \"income\",\n      \"properties\": {\n        \"dtype\": \"number\",\n        \"std\": 61278.12436127039,\n        \"min\": -65600.0,\n        \"max\": 159450.0,\n        \"num_unique_values\": 8,\n        \"samples\": [\n          33766.893302603035,\n          23310.0,\n          29504.0\n        ],\n        \"semantic_type\": \"\",\n        \"description\": \"\"\n      }\n    },\n    {\n      \"column\": \"age\",\n      \"properties\": {\n        \"dtype\": \"number\",\n        \"std\": 10416.400678365655,\n        \"min\": 11.36986493969898,\n        \"max\": 29504.0,\n        \"num_unique_values\": 8,\n        \"samples\": [\n          34.773454446854664,\n          32.0,\n          29504.0\n        ],\n        \"semantic_type\": \"\",\n        \"description\": \"\"\n      }\n    },\n    {\n      \"column\": \"job\",\n      \"properties\": {\n        \"dtype\": \"number\",\n        \"std\": 10430.65472264284,\n        \"min\": 0.0,\n        \"max\": 29504.0,\n        \"num_unique_values\": 6,\n        \"samples\": [\n          29504.0,\n          1.9154013015184381,\n          3.0\n        ],\n        \"semantic_type\": \"\",\n        \"description\": \"\"\n      }\n    },\n    {\n      \"column\": \"num_dependents\",\n      \"properties\": {\n        \"dtype\": \"number\",\n        \"std\": 10430.860992940645,\n        \"min\": 0.3480252114000592,\n        \"max\": 29504.0,\n        \"num_unique_values\": 5,\n        \"samples\": [\n          1.140997830802603,\n          2.0,\n          0.3480252114000592\n        ],\n        \"semantic_type\": \"\",\n        \"description\": \"\"\n      }\n    },\n    {\n      \"column\": \"rent\",\n      \"properties\": {\n        \"dtype\": \"number\",\n        \"std\": 10431.157519419012,\n        \"min\": 0.0,\n        \"max\": 29504.0,\n        \"num_unique_values\": 5,\n        \"samples\": [\n          0.210412147505423,\n          1.0,\n          0.4076082763404077\n        ],\n        \"semantic_type\": \"\",\n        \"description\": \"\"\n      }\n    },\n    {\n      \"column\": \"own_res\",\n      \"properties\": {\n        \"dtype\": \"number\",\n        \"std\": 10431.029780466983,\n        \"min\": 0.0,\n        \"max\": 29504.0,\n        \"num_unique_values\": 5,\n        \"samples\": [\n          0.6811279826464208,\n          1.0,\n          0.4660472246635043\n        ],\n        \"semantic_type\": \"\",\n        \"description\": \"\"\n      }\n    },\n    {\n      \"column\": \"new_car\",\n      \"properties\": {\n        \"dtype\": \"number\",\n        \"std\": 10430.44786954917,\n        \"min\": 0.0,\n        \"max\": 29502.0,\n        \"num_unique_values\": 5,\n        \"samples\": [\n          0.24079723408582468,\n          1.0,\n          0.42757469875406806\n        ],\n        \"semantic_type\": \"\",\n        \"description\": \"\"\n      }\n    },\n    {\n      \"column\": \"chk_acct\",\n      \"properties\": {\n        \"dtype\": \"number\",\n        \"std\": 10430.749209953663,\n        \"min\": 0.0,\n        \"max\": 29504.0,\n        \"num_unique_values\": 6,\n        \"samples\": [\n          29504.0,\n          1.4685466377440346,\n          3.0\n        ],\n        \"semantic_type\": \"\",\n        \"description\": \"\"\n      }\n    },\n    {\n      \"column\": \"sav_acct\",\n      \"properties\": {\n        \"dtype\": \"number\",\n        \"std\": 10430.813011888733,\n        \"min\": 0.0,\n        \"max\": 29504.0,\n        \"num_unique_values\": 6,\n        \"samples\": [\n          29504.0,\n          0.9566160520607375,\n          4.0\n        ],\n        \"semantic_type\": \"\",\n        \"description\": \"\"\n      }\n    },\n    {\n      \"column\": \"num_accts\",\n      \"properties\": {\n        \"dtype\": \"number\",\n        \"std\": 10327.18636565093,\n        \"min\": 0.0,\n        \"max\": 29504.0,\n        \"num_unique_values\": 7,\n        \"samples\": [\n          29504.0,\n          2.4583446312364425,\n          3.0\n        ],\n        \"semantic_type\": \"\",\n        \"description\": \"\"\n      }\n    },\n    {\n      \"column\": \"mobile\",\n      \"properties\": {\n        \"dtype\": \"number\",\n        \"std\": 10431.169598154367,\n        \"min\": 0.0,\n        \"max\": 29504.0,\n        \"num_unique_values\": 5,\n        \"samples\": [\n          0.0911062906724512,\n          1.0,\n          0.2877650798268476\n        ],\n        \"semantic_type\": \"\",\n        \"description\": \"\"\n      }\n    },\n    {\n      \"column\": \"product\",\n      \"properties\": {\n        \"dtype\": \"number\",\n        \"std\": 10430.675575119061,\n        \"min\": 0.0,\n        \"max\": 29504.0,\n        \"num_unique_values\": 7,\n        \"samples\": [\n          29504.0,\n          1.5357917570498916,\n          3.0\n        ],\n        \"semantic_type\": \"\",\n        \"description\": \"\"\n      }\n    }\n  ]\n}"
            }
          },
          "metadata": {},
          "execution_count": 65
        }
      ],
      "source": [
        "#delete outliers\n",
        "num_df = df.select_dtypes(include=['number'])\n",
        "Q1 = num_df.quantile(0.25)\n",
        "Q3 = num_df.quantile(0.75)\n",
        "IQR = Q3 - Q1\n",
        "df_clean = df[~((df[num_df.columns] < (Q1 - 1.5 * IQR)) |(df[num_df.columns] > (Q3 + 1.5 * IQR))).any(axis=1)]\n",
        "df.describe()"
      ]
    },
    {
      "cell_type": "code",
      "execution_count": 66,
      "metadata": {
        "id": "FMAd2X8enjzc"
      },
      "outputs": [],
      "source": [
        "#remove variables that are not helpful\n",
        "df_clean = df_clean.drop(columns=['product'])"
      ]
    },
    {
      "cell_type": "code",
      "execution_count": 67,
      "metadata": {
        "id": "ubl1ql6snjzd"
      },
      "outputs": [],
      "source": [
        "#cleanup any missing or non-standardized data\n",
        "df_clean.isnull().sum()\n",
        "df_clean = df_clean.dropna()  # Drop rows with missing values if applicable"
      ]
    },
    {
      "cell_type": "markdown",
      "metadata": {
        "id": "Zp7wGDqJ4iuL"
      },
      "source": [
        "### 2.2: Standardize variables\n",
        "\n",
        " - Change \"answered\" to yes/no and make it categorical\n",
        " - Convert any variables that should be an integer into an integer"
      ]
    },
    {
      "cell_type": "code",
      "execution_count": 68,
      "metadata": {
        "id": "gvMekcKg4y5X"
      },
      "outputs": [],
      "source": [
        "# Create the new variable 'answered_cat' based on the values in 'answered'\n",
        "df_clean['answered_cat'] = df_clean['answered'].map({0: 'no', 1: 'yes'})\n",
        "df_clean['answered_cat'] = df_clean['answered_cat'].astype('category')"
      ]
    },
    {
      "cell_type": "code",
      "execution_count": 69,
      "metadata": {
        "id": "ynRF9m3Vnjzd"
      },
      "outputs": [],
      "source": [
        "# Convert to integer\n",
        "# Convert to integer\n",
        "df_clean['num_dependents'] = df_clean['num_dependents'].astype(int)\n",
        "df_clean['num_accts'] = df_clean['num_accts'].astype(int)"
      ]
    },
    {
      "cell_type": "markdown",
      "metadata": {
        "id": "AuB0G9gJt7gn"
      },
      "source": [
        "### 2.3 Convert variables to categorical\n",
        "\n",
        "- Find at least 8 variables that would be appropriate to convert to categories\n",
        "- Create a new categorical variable for \"answered\""
      ]
    },
    {
      "cell_type": "code",
      "execution_count": null,
      "metadata": {
        "id": "CaT_JTHOdeoF"
      },
      "outputs": [],
      "source": [
        "#Convert categorical variables\n"
      ]
    },
    {
      "cell_type": "code",
      "execution_count": null,
      "metadata": {
        "id": "OnNRhNV7njze"
      },
      "outputs": [],
      "source": [
        "#Create a new variable for \"answered\""
      ]
    },
    {
      "cell_type": "markdown",
      "metadata": {
        "id": "qe8EpqLKnjze"
      },
      "source": [
        "# Step 3: Exploratory Data Analysis (EDA)\n",
        "- Explore the relationships between the target and independent variables\n",
        "- Create at least five charts to show the relationships, using different chart types that are approriate to the analysis\n",
        "- Ensure that all charts are clearly labeled and formatted"
      ]
    },
    {
      "cell_type": "code",
      "execution_count": null,
      "metadata": {
        "id": "b-wswJqUjsYK"
      },
      "outputs": [],
      "source": [
        "# Chart 1\n"
      ]
    },
    {
      "cell_type": "code",
      "execution_count": null,
      "metadata": {
        "id": "Zzf2DocUnjze"
      },
      "outputs": [],
      "source": [
        "# Chart 2"
      ]
    },
    {
      "cell_type": "code",
      "execution_count": null,
      "metadata": {
        "id": "AbS5YzdMnjze"
      },
      "outputs": [],
      "source": [
        "# Chart 3"
      ]
    },
    {
      "cell_type": "code",
      "execution_count": null,
      "metadata": {
        "id": "YNFOgFgynjze"
      },
      "outputs": [],
      "source": [
        "# Chart 4"
      ]
    },
    {
      "cell_type": "code",
      "execution_count": null,
      "metadata": {
        "id": "ZTTcY8zTnjze"
      },
      "outputs": [],
      "source": [
        "# Chart 5"
      ]
    },
    {
      "cell_type": "markdown",
      "metadata": {
        "id": "SoJLJMlceORN"
      },
      "source": [
        "## Step 4: Modeling\n",
        "\n",
        "### 4.1: Calculate the base probability of answering\n",
        "\n",
        "If we use no model at all, how good is our chance of predicting someone leaving?"
      ]
    },
    {
      "cell_type": "code",
      "execution_count": null,
      "metadata": {
        "id": "rOCisFRUnjze"
      },
      "outputs": [],
      "source": [
        "#get the default probability"
      ]
    },
    {
      "cell_type": "markdown",
      "metadata": {
        "id": "-em042MPnjzf"
      },
      "source": [
        "### 4.2: Split the training and testing datasets\n",
        "\n",
        "- split df_clean using train_test_split function\n",
        "- all variables except answered should be in the x variable\n",
        "- answered is in the y variable\n"
      ]
    },
    {
      "cell_type": "code",
      "execution_count": null,
      "metadata": {
        "id": "pFvL8dnhnjzf"
      },
      "outputs": [],
      "source": [
        "# Split data into training and testing sets\n"
      ]
    },
    {
      "cell_type": "markdown",
      "metadata": {
        "id": "k6aUxHwMnjzf"
      },
      "source": [
        "### 4.3: Create a Decision Tree\n",
        "- Use all available attributes (except those that were eliminated in step 3)\n",
        "- It is recommended to use the type \"entropy\" and a max_depth of 4"
      ]
    },
    {
      "cell_type": "code",
      "execution_count": null,
      "metadata": {
        "id": "WBH7aRXbOUf4"
      },
      "outputs": [],
      "source": [
        "#create a tree"
      ]
    },
    {
      "cell_type": "code",
      "execution_count": null,
      "metadata": {
        "id": "Nc0kYIMunjzf"
      },
      "outputs": [],
      "source": [
        "#display (visualize) the tree"
      ]
    },
    {
      "cell_type": "markdown",
      "metadata": {
        "id": "kS4-f2osS0s0"
      },
      "source": [
        "### 4.4: What is the accuracy?\n",
        "\n",
        "This should be better than the base probability, or you have failed in your objective"
      ]
    },
    {
      "cell_type": "code",
      "execution_count": null,
      "metadata": {
        "id": "kl_KUqeqS6Nf"
      },
      "outputs": [],
      "source": [
        "#calculate the probability for your tree"
      ]
    },
    {
      "cell_type": "markdown",
      "metadata": {
        "id": "-I66jKusS_Xe"
      },
      "source": [
        "### 4.5: Create a confusion matrix\n",
        "\n",
        "This will show false positives, true positives, etc."
      ]
    },
    {
      "cell_type": "code",
      "execution_count": null,
      "metadata": {
        "id": "l_dKmgjmTGsj"
      },
      "outputs": [],
      "source": [
        "#create a basic confusion matrix\n"
      ]
    },
    {
      "cell_type": "markdown",
      "metadata": {
        "id": "K9VwS6ziiwx7"
      },
      "source": [
        "Create a more visual, interpretable version of the matrix"
      ]
    },
    {
      "cell_type": "code",
      "execution_count": null,
      "metadata": {
        "id": "z1MOx-sCi4kF"
      },
      "outputs": [],
      "source": [
        "#Create a beautiful matrix; hint - try using Seaborn Heatmap"
      ]
    },
    {
      "cell_type": "markdown",
      "metadata": {
        "id": "vTC161_b9kWm"
      },
      "source": [
        "# Step 5: Evaluate the Model\n",
        "\n",
        "**Assumptions**\n",
        "\n",
        "One of the simplifying assumptions we will make in this project is that all the customers who answer the phone will purchase a product. (This assumption is actually verified by the data.) To model \"answered\" in this case is therefore equivalent to modeling \"purchased.\"\n",
        "\n",
        "There are costs and benefits in this case. We will assume that customers purchase a product for 100 dollars. This was the average cost of AdviseInvest products, according to the Director of Sales.  Also, as we learned in the interview, the agent time to make the sale is worth 25 dollars. Profit would therefore be \\$75 dollars for an answered call and a purchase. In sum:\n",
        "\n",
        "**Benefit**: True positive. The customer is predicted to answer, does answer, and purchases a product for 100 dollars for a profit of 100 - 25 = 75.\n",
        "\n",
        "**Cost**: False positive. The customer is predicted to answer, but does not answer, so there is a loss of 25. (We assume the agent cannot schedule another call at the last minute, or spends the entire time slot trying to make the call.)\n",
        "\n",
        "When you create a calculation you can use:\n",
        "- True answered * 75 -> These people purchased\n",
        "- False answered * 25 -> You can't schedule another call\n",
        "\n",
        "For this exercise, we propose that customers who are not predicted to answer will not be called, so there would be no benefits and no costs for them.  \n",
        "\n",
        "### 5.1 Calculate the Profit Using the Model"
      ]
    },
    {
      "cell_type": "code",
      "execution_count": null,
      "metadata": {
        "id": "y3BHSJu-9s8z"
      },
      "outputs": [],
      "source": [
        "# Write a calcuation for the profit from your model"
      ]
    },
    {
      "cell_type": "markdown",
      "metadata": {
        "id": "GrqwIDNXmwN8"
      },
      "source": [
        "### 5.2 Compare to the Default Profit\n",
        "\n",
        "How much profit (revenue - costs) could be expected if all customers are called? We can consider this a baseline case for profit since it does not require a model.\n",
        "\n",
        "In other words, to calculate profit in this baseline scenario treat the customers who answer as true positives treat the customers who do not answer as false positives."
      ]
    },
    {
      "cell_type": "code",
      "execution_count": null,
      "metadata": {
        "id": "ak1I_A2HmvUF"
      },
      "outputs": [],
      "source": [
        "#Write a calculation for the overall profit without using the model (default)"
      ]
    },
    {
      "cell_type": "markdown",
      "metadata": {
        "id": "VmpDfxqRnjzg"
      },
      "source": [
        "### 5.3 Tune the Model\n",
        "- Adjust the size or shape of the tree, then test the accuracy\n",
        "- Continue to make changes until you find a set of hyperparameters that improves the accuracy compared to the initial model"
      ]
    },
    {
      "cell_type": "code",
      "execution_count": null,
      "metadata": {
        "id": "25ueXwo7njzh"
      },
      "outputs": [],
      "source": [
        "# Create a new version of the tree with new parameters"
      ]
    },
    {
      "cell_type": "code",
      "execution_count": null,
      "metadata": {
        "id": "NHjQEgGpnjzh"
      },
      "outputs": [],
      "source": [
        "# Calculate a new probability"
      ]
    },
    {
      "cell_type": "markdown",
      "metadata": {
        "id": "ohazvcolnjzh"
      },
      "source": [
        "### 5.4 Apply the Model to New Customers\n",
        "- Import the \"adviseinvest_new_customer_data.csv\" file\n",
        "- Using the tree model, predict each customer for the target variable"
      ]
    },
    {
      "cell_type": "code",
      "execution_count": null,
      "metadata": {
        "id": "4XiBO3Wznjzh"
      },
      "outputs": [],
      "source": [
        "#Import new customer data into a new data frame"
      ]
    },
    {
      "cell_type": "code",
      "execution_count": null,
      "metadata": {
        "id": "1ztgCYr9njzh"
      },
      "outputs": [],
      "source": [
        "#Predict the number of customers who will be yes/no for the target variable"
      ]
    },
    {
      "cell_type": "markdown",
      "metadata": {
        "id": "MzLoM10Eo2j3"
      },
      "source": [
        "# Step 6: Plan for Deployment\n",
        "### 6.1: Did we improve our profit using the model?  "
      ]
    },
    {
      "cell_type": "markdown",
      "metadata": {
        "id": "ujL9ZqTonjzh"
      },
      "source": [
        "Write your conclusion notes below:"
      ]
    },
    {
      "cell_type": "markdown",
      "metadata": {
        "id": "-eiAoOmHnjzh"
      },
      "source": [
        "### 6.2: How should the model be deployed?\n",
        "\n",
        "Write your recommendations below:"
      ]
    },
    {
      "cell_type": "markdown",
      "metadata": {
        "id": "sVs7glPjnjzi"
      },
      "source": []
    }
  ],
  "metadata": {
    "colab": {
      "provenance": [],
      "include_colab_link": true
    },
    "kernelspec": {
      "display_name": "Python 3",
      "name": "python3"
    },
    "language_info": {
      "name": "python"
    }
  },
  "nbformat": 4,
  "nbformat_minor": 0
}